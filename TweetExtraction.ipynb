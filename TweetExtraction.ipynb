{
  "nbformat": 4,
  "nbformat_minor": 0,
  "metadata": {
    "colab": {
      "name": "TweetExtraction.ipynb",
      "provenance": [],
      "collapsed_sections": [],
      "authorship_tag": "ABX9TyPIWkIDuxS61MVedypcoo8E",
      "include_colab_link": true
    },
    "kernelspec": {
      "name": "python3",
      "display_name": "Python 3"
    },
    "language_info": {
      "name": "python"
    }
  },
  "cells": [
    {
      "cell_type": "markdown",
      "metadata": {
        "id": "view-in-github",
        "colab_type": "text"
      },
      "source": [
        "<a href=\"https://colab.research.google.com/github/junaidmajeed/911Calls/blob/master/TweetExtraction.ipynb\" target=\"_parent\"><img src=\"https://colab.research.google.com/assets/colab-badge.svg\" alt=\"Open In Colab\"/></a>"
      ]
    },
    {
      "cell_type": "code",
      "metadata": {
        "colab": {
          "base_uri": "https://localhost:8080/"
        },
        "id": "V2Df1WGJw2os",
        "outputId": "8f1e81b5-2e75-4f39-82b5-dc17a083a753"
      },
      "source": [
        "print(\"Tweets :)\")"
      ],
      "execution_count": null,
      "outputs": [
        {
          "output_type": "stream",
          "text": [
            "Tweets :)\n"
          ],
          "name": "stdout"
        }
      ]
    },
    {
      "cell_type": "code",
      "metadata": {
        "id": "zKg4GPUuDy3X"
      },
      "source": [
        "import tweepy,json\n",
        "access_token=\"2852384748-HwFof61XGQj2upuGC577GAva0H1lnFxJ2eL4oYT\"\n",
        "access_token_secret=\"YGdA7CqRpyaFpT2hKzqPORd1LwlY5HTI1vwPZqyQpF5Tk\"\n",
        "consumer_key=\"BEPXWFb65EUUC7ninVC97sRXs\"\n",
        "consumer_secret=\"9YrdwC7Ex0kL5aw8nxb4SJHhZVtfNs8HHcTVrXz9fDm9edgtZB\"\n",
        "auth= tweepy.OAuthHandler(consumer_key,consumer_secret)\n",
        "auth.set_access_token(access_token,access_token_secret)"
      ],
      "execution_count": 3,
      "outputs": []
    },
    {
      "cell_type": "code",
      "metadata": {
        "id": "h3qDBmHFEMUC"
      },
      "source": [
        "tweet_list=[]\n",
        "class MyStreamListener(tweepy.StreamListener):\n",
        "    def __init__(self,api=None):\n",
        "        super(MyStreamListener,self).__init__()\n",
        "        self.num_tweets=0\n",
        "        self.file=open(\"tweet.txt\",\"w\")\n",
        "    def on_status(self,status):\n",
        "        tweet=status._json\n",
        "        self.file.write(json.dumps(tweet)+ '\\n')\n",
        "        tweet_list.append(status)\n",
        "        self.num_tweets+=1\n",
        "        if self.num_tweets<1000:\n",
        "            return True\n",
        "        else:\n",
        "            return False\n",
        "        self.file.close()"
      ],
      "execution_count": 4,
      "outputs": []
    },
    {
      "cell_type": "code",
      "metadata": {
        "id": "jMk89YzAETH0"
      },
      "source": [
        "#create streaming object and authenticate\n",
        "l = MyStreamListener()\n",
        "stream =tweepy.Stream(auth,l)\n",
        "#this line filters twiiter streams to capture data by keywords\n",
        "stream.filter(track=['covid','corona','covid19','coronavirus',\n",
        "'facemask','sanitizer','social-distancing'])"
      ],
      "execution_count": 5,
      "outputs": []
    },
    {
      "cell_type": "code",
      "metadata": {
        "colab": {
          "base_uri": "https://localhost:8080/",
          "height": 229
        },
        "id": "sR-Q6EffEgGG",
        "outputId": "c0917330-2f57-4d1d-d74a-83e7f13a99ec"
      },
      "source": [
        "tweets_data_path='copp.txt'\n",
        "tweets_data=[]\n",
        "tweets_file=open(tweets_data_path,\"r\")\n",
        "#read in tweets and store on list\n",
        "for line in tweets_file:\n",
        "    tweet=json.loads(line)\n",
        "    tweets_data.append(tweet)\n",
        "tweets_file.close()\n",
        "print(tweets_data[0])"
      ],
      "execution_count": 7,
      "outputs": [
        {
          "output_type": "error",
          "ename": "FileNotFoundError",
          "evalue": "ignored",
          "traceback": [
            "\u001b[0;31m---------------------------------------------------------------------------\u001b[0m",
            "\u001b[0;31mFileNotFoundError\u001b[0m                         Traceback (most recent call last)",
            "\u001b[0;32m<ipython-input-7-143aebba1ca0>\u001b[0m in \u001b[0;36m<module>\u001b[0;34m()\u001b[0m\n\u001b[1;32m      1\u001b[0m \u001b[0mtweets_data_path\u001b[0m\u001b[0;34m=\u001b[0m\u001b[0;34m'copp.txt'\u001b[0m\u001b[0;34m\u001b[0m\u001b[0;34m\u001b[0m\u001b[0m\n\u001b[1;32m      2\u001b[0m \u001b[0mtweets_data\u001b[0m\u001b[0;34m=\u001b[0m\u001b[0;34m[\u001b[0m\u001b[0;34m]\u001b[0m\u001b[0;34m\u001b[0m\u001b[0;34m\u001b[0m\u001b[0m\n\u001b[0;32m----> 3\u001b[0;31m \u001b[0mtweets_file\u001b[0m\u001b[0;34m=\u001b[0m\u001b[0mopen\u001b[0m\u001b[0;34m(\u001b[0m\u001b[0mtweets_data_path\u001b[0m\u001b[0;34m,\u001b[0m\u001b[0;34m\"r\"\u001b[0m\u001b[0;34m)\u001b[0m\u001b[0;34m\u001b[0m\u001b[0;34m\u001b[0m\u001b[0m\n\u001b[0m\u001b[1;32m      4\u001b[0m \u001b[0;31m#read in tweets and store on list\u001b[0m\u001b[0;34m\u001b[0m\u001b[0;34m\u001b[0m\u001b[0;34m\u001b[0m\u001b[0m\n\u001b[1;32m      5\u001b[0m \u001b[0;32mfor\u001b[0m \u001b[0mline\u001b[0m \u001b[0;32min\u001b[0m \u001b[0mtweets_file\u001b[0m\u001b[0;34m:\u001b[0m\u001b[0;34m\u001b[0m\u001b[0;34m\u001b[0m\u001b[0m\n",
            "\u001b[0;31mFileNotFoundError\u001b[0m: [Errno 2] No such file or directory: 'copp.txt'"
          ]
        }
      ]
    }
  ]
}